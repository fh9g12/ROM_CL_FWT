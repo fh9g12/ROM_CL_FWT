{
 "cells": [
  {
   "cell_type": "code",
   "execution_count": 1,
   "metadata": {},
   "outputs": [],
   "source": [
    "import sympy as sym\n",
    "import sympy.physics.mechanics as me\n",
    "from sympy.abc import t\n",
    "import moyra as ma\n",
    "me.mechanics_printing()"
   ]
  },
  {
   "cell_type": "code",
   "execution_count": 2,
   "metadata": {},
   "outputs": [],
   "source": [
    "Modes = 4\n",
    "FWT_DoFs = 1\n",
    "DoFs = Modes + FWT_DoFs"
   ]
  },
  {
   "cell_type": "code",
   "execution_count": 3,
   "metadata": {},
   "outputs": [],
   "source": [
    "p = ma.DynamicModelParameters(DoFs)\n",
    "p.DoFs  = ma.ModelSymbol(value = DoFs,string = 'DoFs')                          # number of degrees of freedom\n",
    "\n",
    "#gravity vector\n",
    "p.g  = ma.ModelSymbol(value = 9.81,string = 'g')                     # gravity\n",
    "p.g_v = ma.ModelVector(value =[0,0,-1],length=3,string='g_v') # The stationary point\n",
    "\n",
    "# Reduced order matrices\n",
    "p.M = ma.ModelVector(value =[0]*Modes,length=Modes,string='M', real=True)       # Generalised Mass Matrix of Inner Wing\n",
    "p.K = ma.ModelVector(value =[0]*Modes,length=Modes,string='K', real=True)       # Generalised Stiffness Matrix of Inner Wing\n",
    "p.S = ma.ModelMatrix(size=(3,Modes),string = 'S', real=True)               \n",
    "p.R = ma.ModelMatrix(size=(3,Modes),string = 'R', real=True)   \n",
    "\n",
    "#hinge properties\n",
    "p.X_h = ma.ModelVector(value =[0,1,0],length=3,string='X_h')        # Location of hinge in wing frame\n",
    "p.k_h = ma.ModelSymbol(value = 0,string = 'k_h')                    # Hinge Stiffness\n",
    "p.d_h = ma.ModelSymbol(value = 0,string = 'd_h')                    # Hinge Damping             \n",
    "\n",
    "# FWT properties\n",
    "p.Lambda = ma.ModelSymbol(value = 0.3,string = 'Lambda')            # Flare Angle\n",
    "p.m_f = ma.ModelSymbol(value = 0,string = 'm_f')                    # FWT mass\n",
    "p.I_f = ma.ModelVector(value =[0,0,0],length=3,string='I_f')        # FWT moments of inertia\n",
    "p.X_f = ma.ModelVector(value =[1,1,0],length=3,string='X_f')        # location of FWT CoM relative to hinge semi-chord\n",
    "\n",
    "Xb = ma.VarVector('Xb',3,1)"
   ]
  },
  {
   "cell_type": "code",
   "execution_count": 4,
   "metadata": {},
   "outputs": [
    {
     "data": {
      "text/latex": [
       "$\\displaystyle \\left[\\begin{matrix}1 & - R_{2,0} q_{0} - R_{2,1} q_{1} - R_{2,2} q_{2} - R_{2,3} q_{3} & R_{1,0} q_{0} + R_{1,1} q_{1} + R_{1,2} q_{2} + R_{1,3} q_{3}\\\\R_{2,0} q_{0} + R_{2,1} q_{1} + R_{2,2} q_{2} + R_{2,3} q_{3} & 1 & - R_{0,0} q_{0} - R_{0,1} q_{1} - R_{0,2} q_{2} - R_{0,3} q_{3}\\\\- R_{1,0} q_{0} - R_{1,1} q_{1} - R_{1,2} q_{2} - R_{1,3} q_{3} & R_{0,0} q_{0} + R_{0,1} q_{1} + R_{0,2} q_{2} + R_{0,3} q_{3} & 1\\end{matrix}\\right]$"
      ],
      "text/plain": [
       "⎡                    1                       -R_2,0⋅q₀ - R_2,1⋅q₁ - R_2,2⋅q₂ - ↪\n",
       "⎢                                                                              ↪\n",
       "⎢R_2,0⋅q₀ + R_2,1⋅q₁ + R_2,2⋅q₂ + R_2,3⋅q₃                       1             ↪\n",
       "⎢                                                                              ↪\n",
       "⎣-R_1,0⋅q₀ - R_1,1⋅q₁ - R_1,2⋅q₂ - R_1,3⋅q₃  R_0,0⋅q₀ + R_0,1⋅q₁ + R_0,2⋅q₂ +  ↪\n",
       "\n",
       "↪  R_2,3⋅q₃  R_1,0⋅q₀ + R_1,1⋅q₁ + R_1,2⋅q₂ + R_1,3⋅q₃ ⎤\n",
       "↪                                                      ⎥\n",
       "↪            -R_0,0⋅q₀ - R_0,1⋅q₁ - R_0,2⋅q₂ - R_0,3⋅q₃⎥\n",
       "↪                                                      ⎥\n",
       "↪ R_0,3⋅q₃                       1                     ⎦"
      ]
     },
     "execution_count": 4,
     "metadata": {},
     "output_type": "execute_result"
    }
   ],
   "source": [
    "# functions that represent rotation of the hinge due to inner wing bending\n",
    "Ry = sym.Function('Ry')(t)\n",
    "Rx = sym.Function('Rx')(t)\n",
    "R = p.R*sym.Matrix(p.q[:Modes])\n",
    "R = sym.eye(3) + ma.Wedge(R)\n",
    "R"
   ]
  },
  {
   "cell_type": "code",
   "execution_count": 5,
   "metadata": {},
   "outputs": [],
   "source": [
    "# generate frames of reference\n",
    "body_frame = ma.frames.HomogenousFrame().simplify()\n",
    "v = p.X_h + p.S*sym.Matrix(p.q[:Modes])\n",
    "\n",
    "# hinge_frame = body_frame.Translate(*v).R_x_small(Rx).R_y_small(R[1]).R_z(p.Lambda).R_x(-p.q[-1]).simplify()\n",
    "hinge_frame = body_frame.Translate(*v).Rotate(R).R_z(p.Lambda).R_x(-p.q[-1]).simplify()\n",
    "fwt_frame = hinge_frame.R_z(-p.Lambda)"
   ]
  },
  {
   "cell_type": "code",
   "execution_count": 6,
   "metadata": {},
   "outputs": [],
   "source": [
    "#Create Elemnts\n",
    "M = ma.elements.MassMatrix(p.m_f,p.I_f[0],p.I_f[1],p.I_f[2])\n",
    "\n",
    "\n",
    "## Inner Wing Modal Element\n",
    "wing_ele = ma.elements.ModalElement(p.q, body_frame, p.q[:Modes], p.M, p.K, name='wing',simplify = False)\n",
    "## FWT mass element\n",
    "fwt_elements = []\n",
    "gv = sym.Matrix([*(p.g_v*p.g)])\n",
    "fwt_elements.append(ma.elements.RigidElement(p.q, fwt_frame, M, grav_vec=gv, com_pos=p.X_f, name='fwt',simplify = False,alt_method=True))\n",
    "fwt_elements.append(ma.elements.Spring(p.q,p.q[-1],p.k_h,name=\"Hinge Spring\"))\n",
    "fwt_elements.append(ma.elements.Damper(p.q,p.q[-1],p.d_h,name=\"Hinge Damper\"))"
   ]
  },
  {
   "cell_type": "code",
   "execution_count": 8,
   "metadata": {},
   "outputs": [
    {
     "name": "stdout",
     "output_type": "stream",
     "text": [
      "Generating EoM for Element 1 out of 4 - fwt:RigidElement\n",
      "Generating EoM for Element 2 out of 4 - Hinge Spring:Spring\n",
      "Generating EoM for Element 3 out of 4 - Hinge Damper:Damper\n",
      "Generating EoM for Element 4 out of 4 - wing:ModalElement\n"
     ]
    }
   ],
   "source": [
    "# generate EoMs\n",
    "sm = ma.SymbolicModel.FromElementsAndForces(p.q,[*fwt_elements,wing_ele])\n",
    "# sm.M"
   ]
  },
  {
   "cell_type": "code",
   "execution_count": 9,
   "metadata": {},
   "outputs": [],
   "source": [
    "R = p.R*sym.Matrix(p.q[:Modes])\n",
    "Rd = p.R*sym.Matrix(p.q[:Modes])\n",
    "rot_rep = {Rx.diff(t):Rd[0],Ry.diff(t):Rd[1],\n",
    "          Rx:R[0],Ry:R[1]}\n",
    "sm = sm.msubs(rot_rep)\n",
    "fwt_frame = fwt_frame.msubs(rot_rep)"
   ]
  },
  {
   "cell_type": "code",
   "execution_count": 10,
   "metadata": {},
   "outputs": [],
   "source": [
    "funcs = []\n",
    "Xi = ma.VarVector('Xi',3,1)\n",
    "funcs.append(('get_fwt_V_b',fwt_frame.A.T*fwt_frame.transform_point(Xi).diff(t)))\n",
    "funcs.append(('get_fwt_V_global',fwt_frame.transform_point(Xi).diff(t)))\n",
    "funcs.append(('get_pos_global2fwt',fwt_frame.transform_global_point(Xi)))\n",
    "funcs.append(('get_pos_fwt2global',fwt_frame.transform_point(Xi)))\n",
    "# funcs.append(('get_fwt_V_b_body',body_frame.A.T*fwt_ele.frame.transform_point(X).diff(t)))\n",
    "funcs.append(('get_fwt_A',fwt_frame.A))\n",
    "funcs.append(('get_body_A',body_frame.A))\n",
    "funcs.append(('get_hda',R[0]))\n",
    "funcs.append(('get_fold',p.q[-1]))\n",
    "funcs.append(('get_fold_dt',p.qd[-1]))"
   ]
  },
  {
   "cell_type": "code",
   "execution_count": 11,
   "metadata": {},
   "outputs": [],
   "source": [
    "#create function for an arbitary force on FWT\n",
    "F_x,F_y,F_z,M_x,M_y,M_z = sym.symbols('F_x,F_y,F_z,M_x,M_y,M_z')\n",
    "W_n = sym.Matrix([F_x,F_y,F_z,M_x,M_y,M_z])\n",
    "W = ma.VarVector('W',6,1)\n",
    "fwt_Q = fwt_frame.Translate(*Xi).BodyJacobian(p.q).T*W_n\n",
    "fwt_Q = me.msubs(fwt_Q,{**{W_n[i]:W[i,0] for i in range(6)}})\n",
    "#create function for an arbitary force on FWT\n",
    "funcs.append(('get_fwt_Q',fwt_Q))"
   ]
  },
  {
   "cell_type": "code",
   "execution_count": 12,
   "metadata": {},
   "outputs": [
    {
     "name": "stdout",
     "output_type": "stream",
     "text": [
      "Unknown variable Xi found in function get_fwt_V_b. It will be added to the function signature.\n",
      "Unknown variable Xi found in function get_fwt_V_global. It will be added to the function signature.\n",
      "Unknown variable Xi found in function get_pos_global2fwt. It will be added to the function signature.\n",
      "Unknown variable Xi found in function get_pos_fwt2global. It will be added to the function signature.\n",
      "Unknown variable W found in function get_fwt_Q. It will be added to the function signature.\n",
      "Unknown variable Xi found in function get_fwt_Q. It will be added to the function signature.\n"
     ]
    }
   ],
   "source": [
    "base_dir = \"C:/git/ROM_CL_FWT/src_matlab\"\n",
    "class_name = f'ROM_M{Modes}_FWT_RC'\n",
    "base_class = \"mbd.BaseRC\"\n",
    "sm.to_matlab_class(p,base_dir,class_name,base_class,additional_funcs=funcs)"
   ]
  },
  {
   "cell_type": "code",
   "execution_count": null,
   "metadata": {},
   "outputs": [],
   "source": []
  }
 ],
 "metadata": {
  "kernelspec": {
   "display_name": ".venv",
   "language": "python",
   "name": "python3"
  },
  "language_info": {
   "codemirror_mode": {
    "name": "ipython",
    "version": 3
   },
   "file_extension": ".py",
   "mimetype": "text/x-python",
   "name": "python",
   "nbconvert_exporter": "python",
   "pygments_lexer": "ipython3",
   "version": "3.12.5"
  },
  "orig_nbformat": 4
 },
 "nbformat": 4,
 "nbformat_minor": 2
}
